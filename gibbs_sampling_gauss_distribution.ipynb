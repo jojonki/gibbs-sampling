{
 "cells": [
  {
   "cell_type": "code",
   "execution_count": 1,
   "metadata": {},
   "outputs": [
    {
     "ename": "NameError",
     "evalue": "name 'a' is not defined",
     "output_type": "error",
     "traceback": [
      "\u001b[0;31m---------------------------------------------------------------------------\u001b[0m",
      "\u001b[0;31mNameError\u001b[0m                                 Traceback (most recent call last)",
      "\u001b[0;32m<ipython-input-1-3d81b4a70255>\u001b[0m in \u001b[0;36m<module>\u001b[0;34m()\u001b[0m\n\u001b[1;32m     21\u001b[0m \u001b[0mt\u001b[0m \u001b[0;34m=\u001b[0m \u001b[0mnp\u001b[0m\u001b[0;34m.\u001b[0m\u001b[0marange\u001b[0m\u001b[0;34m(\u001b[0m\u001b[0;34m-\u001b[0m\u001b[0;36m5\u001b[0m\u001b[0;34m,\u001b[0m \u001b[0;36m5\u001b[0m\u001b[0;34m,\u001b[0m \u001b[0;36m0.1\u001b[0m\u001b[0;34m)\u001b[0m\u001b[0;34m\u001b[0m\u001b[0;34m\u001b[0m\u001b[0m\n\u001b[1;32m     22\u001b[0m \u001b[0mx\u001b[0m\u001b[0;34m,\u001b[0m \u001b[0my\u001b[0m \u001b[0;34m=\u001b[0m\u001b[0mnp\u001b[0m\u001b[0;34m.\u001b[0m\u001b[0mmeshgrid\u001b[0m\u001b[0;34m(\u001b[0m\u001b[0mt\u001b[0m\u001b[0;34m,\u001b[0m \u001b[0mt\u001b[0m\u001b[0;34m)\u001b[0m\u001b[0;34m\u001b[0m\u001b[0;34m\u001b[0m\u001b[0m\n\u001b[0;32m---> 23\u001b[0;31m \u001b[0mz\u001b[0m \u001b[0;34m=\u001b[0m \u001b[0mgauss\u001b[0m\u001b[0;34m(\u001b[0m\u001b[0mx\u001b[0m\u001b[0;34m,\u001b[0m \u001b[0my\u001b[0m\u001b[0;34m,\u001b[0m \u001b[0ma\u001b[0m\u001b[0;34m)\u001b[0m\u001b[0;34m\u001b[0m\u001b[0;34m\u001b[0m\u001b[0m\n\u001b[0m\u001b[1;32m     24\u001b[0m \u001b[0;34m\u001b[0m\u001b[0m\n\u001b[1;32m     25\u001b[0m \u001b[0mplt\u001b[0m\u001b[0;34m.\u001b[0m\u001b[0mtitle\u001b[0m\u001b[0;34m(\u001b[0m\u001b[0;34m'Gibbs Sampling and True Distribution(a={})'\u001b[0m\u001b[0;34m.\u001b[0m\u001b[0mformat\u001b[0m\u001b[0;34m(\u001b[0m\u001b[0ma\u001b[0m\u001b[0;34m)\u001b[0m\u001b[0;34m)\u001b[0m\u001b[0;34m\u001b[0m\u001b[0;34m\u001b[0m\u001b[0m\n",
      "\u001b[0;31mNameError\u001b[0m: name 'a' is not defined"
     ]
    }
   ],
   "source": [
    "%matplotlib notebook\n",
    "import numpy as np\n",
    "from scipy.stats import norm\n",
    "import matplotlib.pyplot as plt\n",
    "\n",
    "# print a true gauss distribution\n",
    "def gauss(x, y, a):\n",
    "    def _gauss(x, y):\n",
    "        \"\"\"Multivariate normal distribution (two variables)\"\"\"\n",
    "        mu = np.array([0, 0])\n",
    "        sigma = (1 - a*a) * np.array([[1 , a],\n",
    "                                      [a,  1]])\n",
    "        det = np.linalg.det(sigma)\n",
    "        inv_sigma = np.linalg.inv(sigma)\n",
    "\n",
    "        x_c = np.array([x, y]) - mu\n",
    "        return np.exp(- x_c.dot(inv_sigma).dot(x_c[np.newaxis, :].T) / 2.0) / (2*np.pi*np.sqrt(det))\n",
    "    z = np.vectorize(_gauss)(x, y)\n",
    "    return z\n",
    "\n",
    "t = np.arange(-5, 5, 0.1)\n",
    "x, y =np.meshgrid(t, t)\n",
    "z = gauss(x, y, a)\n",
    "\n",
    "plt.title('Gibbs Sampling and True Distribution(a={})'.format(a))\n",
    "c = plt.contour(x, y, z)\n",
    "c.clabel(fmt='%1.2f', fontsize=10)\n",
    "\n",
    "# try gibbs sampling\n",
    "def gibbs_sampling(a, step, burn_in):\n",
    "    x = np.zeros(2) # initial x\n",
    "    samples = np.array(x)\n",
    "    for i in range(step):\n",
    "        denomi = 1 / np.sqrt(2*np.pi)\n",
    "        x[0] = denomi * np.random.normal(a*x[1], 1)\n",
    "        samples = np.append(samples, (x))\n",
    "        x[1] = denomi * np.random.normal(a*x[0], 1)\n",
    "        samples = np.append(samples, (x))\n",
    "    samples = samples.reshape((2*step+1, x.shape[0]))\n",
    "    return samples\n",
    "\n",
    "a = 0.5\n",
    "step = 3000\n",
    "burn_in = 1000\n",
    "samples = gibbs_sampling(a, step, burn_in)\n",
    "plt.scatter(samples[burn_in:, 0], samples[burn_in:, 1], s=10, c='pink', alpha=0.2, edgecolor='red')\n",
    "\n",
    "\n",
    "plt.show()"
   ]
  }
 ],
 "metadata": {
  "kernelspec": {
   "display_name": "Python 3",
   "language": "python",
   "name": "python3"
  },
  "language_info": {
   "codemirror_mode": {
    "name": "ipython",
    "version": 3
   },
   "file_extension": ".py",
   "mimetype": "text/x-python",
   "name": "python",
   "nbconvert_exporter": "python",
   "pygments_lexer": "ipython3",
   "version": "3.6.8"
  }
 },
 "nbformat": 4,
 "nbformat_minor": 2
}
